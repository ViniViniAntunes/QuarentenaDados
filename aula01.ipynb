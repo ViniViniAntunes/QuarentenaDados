{
 "cells": [
  {
   "cell_type": "markdown",
   "metadata": {},
   "source": [
    "# Desafios da Aula 01"
   ]
  },
  {
   "cell_type": "code",
   "execution_count": 1,
   "metadata": {
    "colab": {},
    "colab_type": "code",
    "id": "7LKWRQ7ezDsn"
   },
   "outputs": [
    {
     "data": {
      "text/html": [
       "<div>\n",
       "<style scoped>\n",
       "    .dataframe tbody tr th:only-of-type {\n",
       "        vertical-align: middle;\n",
       "    }\n",
       "\n",
       "    .dataframe tbody tr th {\n",
       "        vertical-align: top;\n",
       "    }\n",
       "\n",
       "    .dataframe thead th {\n",
       "        text-align: right;\n",
       "    }\n",
       "</style>\n",
       "<table border=\"1\" class=\"dataframe\">\n",
       "  <thead>\n",
       "    <tr style=\"text-align: right;\">\n",
       "      <th></th>\n",
       "      <th>filmeId</th>\n",
       "      <th>titulo</th>\n",
       "      <th>generos</th>\n",
       "    </tr>\n",
       "  </thead>\n",
       "  <tbody>\n",
       "    <tr>\n",
       "      <td>0</td>\n",
       "      <td>1</td>\n",
       "      <td>Toy Story (1995)</td>\n",
       "      <td>Adventure|Animation|Children|Comedy|Fantasy</td>\n",
       "    </tr>\n",
       "    <tr>\n",
       "      <td>1</td>\n",
       "      <td>2</td>\n",
       "      <td>Jumanji (1995)</td>\n",
       "      <td>Adventure|Children|Fantasy</td>\n",
       "    </tr>\n",
       "    <tr>\n",
       "      <td>2</td>\n",
       "      <td>3</td>\n",
       "      <td>Grumpier Old Men (1995)</td>\n",
       "      <td>Comedy|Romance</td>\n",
       "    </tr>\n",
       "    <tr>\n",
       "      <td>3</td>\n",
       "      <td>4</td>\n",
       "      <td>Waiting to Exhale (1995)</td>\n",
       "      <td>Comedy|Drama|Romance</td>\n",
       "    </tr>\n",
       "    <tr>\n",
       "      <td>4</td>\n",
       "      <td>5</td>\n",
       "      <td>Father of the Bride Part II (1995)</td>\n",
       "      <td>Comedy</td>\n",
       "    </tr>\n",
       "  </tbody>\n",
       "</table>\n",
       "</div>"
      ],
      "text/plain": [
       "   filmeId                              titulo  \\\n",
       "0        1                    Toy Story (1995)   \n",
       "1        2                      Jumanji (1995)   \n",
       "2        3             Grumpier Old Men (1995)   \n",
       "3        4            Waiting to Exhale (1995)   \n",
       "4        5  Father of the Bride Part II (1995)   \n",
       "\n",
       "                                       generos  \n",
       "0  Adventure|Animation|Children|Comedy|Fantasy  \n",
       "1                   Adventure|Children|Fantasy  \n",
       "2                               Comedy|Romance  \n",
       "3                         Comedy|Drama|Romance  \n",
       "4                                       Comedy  "
      ]
     },
     "execution_count": 1,
     "metadata": {},
     "output_type": "execute_result"
    }
   ],
   "source": [
    "# Importando as bilbiotecas\n",
    "import pandas as pd\n",
    "\n",
    "# Baixando o dataset \"movies.csv\" e armazenado em uma DataFrame\n",
    "filmes = pd.read_csv('datasets/ml-latest-small/movies.csv')\n",
    "\n",
    "# Trocando os nomes das colunas\n",
    "filmes.columns = ['filmeId', 'titulo', 'generos']\n",
    "\n",
    "# Visualizando o DataFrame\n",
    "filmes.head()"
   ]
  },
  {
   "cell_type": "code",
   "execution_count": 2,
   "metadata": {},
   "outputs": [
    {
     "data": {
      "text/html": [
       "<div>\n",
       "<style scoped>\n",
       "    .dataframe tbody tr th:only-of-type {\n",
       "        vertical-align: middle;\n",
       "    }\n",
       "\n",
       "    .dataframe tbody tr th {\n",
       "        vertical-align: top;\n",
       "    }\n",
       "\n",
       "    .dataframe thead th {\n",
       "        text-align: right;\n",
       "    }\n",
       "</style>\n",
       "<table border=\"1\" class=\"dataframe\">\n",
       "  <thead>\n",
       "    <tr style=\"text-align: right;\">\n",
       "      <th></th>\n",
       "      <th>usuarioId</th>\n",
       "      <th>filmeId</th>\n",
       "      <th>nota</th>\n",
       "      <th>momento</th>\n",
       "    </tr>\n",
       "  </thead>\n",
       "  <tbody>\n",
       "    <tr>\n",
       "      <td>0</td>\n",
       "      <td>1</td>\n",
       "      <td>1</td>\n",
       "      <td>4.0</td>\n",
       "      <td>964982703</td>\n",
       "    </tr>\n",
       "    <tr>\n",
       "      <td>1</td>\n",
       "      <td>1</td>\n",
       "      <td>3</td>\n",
       "      <td>4.0</td>\n",
       "      <td>964981247</td>\n",
       "    </tr>\n",
       "    <tr>\n",
       "      <td>2</td>\n",
       "      <td>1</td>\n",
       "      <td>6</td>\n",
       "      <td>4.0</td>\n",
       "      <td>964982224</td>\n",
       "    </tr>\n",
       "    <tr>\n",
       "      <td>3</td>\n",
       "      <td>1</td>\n",
       "      <td>47</td>\n",
       "      <td>5.0</td>\n",
       "      <td>964983815</td>\n",
       "    </tr>\n",
       "    <tr>\n",
       "      <td>4</td>\n",
       "      <td>1</td>\n",
       "      <td>50</td>\n",
       "      <td>5.0</td>\n",
       "      <td>964982931</td>\n",
       "    </tr>\n",
       "  </tbody>\n",
       "</table>\n",
       "</div>"
      ],
      "text/plain": [
       "   usuarioId  filmeId  nota    momento\n",
       "0          1        1   4.0  964982703\n",
       "1          1        3   4.0  964981247\n",
       "2          1        6   4.0  964982224\n",
       "3          1       47   5.0  964983815\n",
       "4          1       50   5.0  964982931"
      ]
     },
     "execution_count": 2,
     "metadata": {},
     "output_type": "execute_result"
    }
   ],
   "source": [
    "# Baixando o dataset \"ratings.csv\" e armazenado em uma DataFrame\n",
    "avaliacoes = pd.read_csv('datasets/ml-latest-small/ratings.csv')\n",
    "\n",
    "# Trocando os nomes das colunas\n",
    "avaliacoes.columns = ['usuarioId', 'filmeId', 'nota', 'momento']\n",
    "\n",
    "# Visualizando o DataFrame\n",
    "avaliacoes.head()"
   ]
  },
  {
   "cell_type": "markdown",
   "metadata": {
    "colab_type": "text",
    "id": "GD__QsStk8P2"
   },
   "source": [
    "# Desafio 1\n",
    "Determine quantos filmes não obtiveram nota. Moetre quais são esses filmes."
   ]
  },
  {
   "cell_type": "code",
   "execution_count": 3,
   "metadata": {
    "colab": {
     "base_uri": "https://localhost:8080/",
     "height": 381
    },
    "colab_type": "code",
    "id": "Bchy1InuBWZa",
    "outputId": "5faf3cc0-115f-4d0b-9df1-2863ba0aec52"
   },
   "outputs": [
    {
     "name": "stdout",
     "output_type": "stream",
     "text": [
      "Total de filmes sem notas: 18\n",
      "\n",
      "Lista de filmes sem notas\n",
      "==> Innocents, The (1961)\n",
      "==> Niagara (1953)\n",
      "==> For All Mankind (1989)\n",
      "==> Color of Paradise, The (Rang-e khoda) (1999)\n",
      "==> I Know Where I'm Going! (1945)\n",
      "==> Chosen, The (1981)\n",
      "==> Road Home, The (Wo de fu qin mu qin) (1999)\n",
      "==> Scrooge (1970)\n",
      "==> Proof (1991)\n",
      "==> Parallax View, The (1974)\n",
      "==> This Gun for Hire (1942)\n",
      "==> Roaring Twenties, The (1939)\n",
      "==> Mutiny on the Bounty (1962)\n",
      "==> In the Realms of the Unreal (2004)\n",
      "==> Twentieth Century (1934)\n",
      "==> Call Northside 777 (1948)\n",
      "==> Browning Version, The (1951)\n",
      "==> Chalet Girl (2011)\n"
     ]
    }
   ],
   "source": [
    "# Calculando as médias das notas por filme\n",
    "notas_medias_por_filme = avaliacoes.groupby('filmeId')['nota'].mean()\n",
    "\n",
    "# Juntando os DataFrames \"filmes_com_medias\" e \"filmes\"\n",
    "medias_filmes = filmes.join(notas_medias_por_filme, on='filmeId')\n",
    "\n",
    "# Separando os filmes sem nota\n",
    "filmes_sem_notas = medias_filmes[medias_filmes['nota'].isna()]\n",
    "\n",
    "# Calculando o total de filmes sem notas\n",
    "total = filmes_sem_notas['titulo'].count()\n",
    "\n",
    "# Mostrando o total de filmes sem notas e o títulos de todos eles\n",
    "print(f'Total de filmes sem notas: {total}\\n')\n",
    "print('Lista de filmes sem notas')\n",
    "for titulo in filmes_sem_notas['titulo']:\n",
    "    print(f'==> {titulo}')"
   ]
  },
  {
   "cell_type": "markdown",
   "metadata": {
    "colab_type": "text",
    "id": "inJwf-WIlDhD"
   },
   "source": [
    "# Desafio 2\n",
    "Junte os DataFrames **filmes** e **filmes_com_medias** e renomeie a columna ***nota*** para ***nota_media***"
   ]
  },
  {
   "cell_type": "code",
   "execution_count": 4,
   "metadata": {
    "colab": {
     "base_uri": "https://localhost:8080/",
     "height": 416
    },
    "colab_type": "code",
    "id": "hoUllrZFZgsA",
    "outputId": "354a01bb-6e19-4c20-cd37-eea0211f3803"
   },
   "outputs": [
    {
     "data": {
      "text/html": [
       "<div>\n",
       "<style scoped>\n",
       "    .dataframe tbody tr th:only-of-type {\n",
       "        vertical-align: middle;\n",
       "    }\n",
       "\n",
       "    .dataframe tbody tr th {\n",
       "        vertical-align: top;\n",
       "    }\n",
       "\n",
       "    .dataframe thead th {\n",
       "        text-align: right;\n",
       "    }\n",
       "</style>\n",
       "<table border=\"1\" class=\"dataframe\">\n",
       "  <thead>\n",
       "    <tr style=\"text-align: right;\">\n",
       "      <th></th>\n",
       "      <th>filmeId</th>\n",
       "      <th>titulo</th>\n",
       "      <th>generos</th>\n",
       "      <th>nota_media</th>\n",
       "    </tr>\n",
       "  </thead>\n",
       "  <tbody>\n",
       "    <tr>\n",
       "      <td>0</td>\n",
       "      <td>1</td>\n",
       "      <td>Toy Story (1995)</td>\n",
       "      <td>Adventure|Animation|Children|Comedy|Fantasy</td>\n",
       "      <td>3.920930</td>\n",
       "    </tr>\n",
       "    <tr>\n",
       "      <td>1</td>\n",
       "      <td>2</td>\n",
       "      <td>Jumanji (1995)</td>\n",
       "      <td>Adventure|Children|Fantasy</td>\n",
       "      <td>3.431818</td>\n",
       "    </tr>\n",
       "    <tr>\n",
       "      <td>2</td>\n",
       "      <td>3</td>\n",
       "      <td>Grumpier Old Men (1995)</td>\n",
       "      <td>Comedy|Romance</td>\n",
       "      <td>3.259615</td>\n",
       "    </tr>\n",
       "    <tr>\n",
       "      <td>3</td>\n",
       "      <td>4</td>\n",
       "      <td>Waiting to Exhale (1995)</td>\n",
       "      <td>Comedy|Drama|Romance</td>\n",
       "      <td>2.357143</td>\n",
       "    </tr>\n",
       "    <tr>\n",
       "      <td>4</td>\n",
       "      <td>5</td>\n",
       "      <td>Father of the Bride Part II (1995)</td>\n",
       "      <td>Comedy</td>\n",
       "      <td>3.071429</td>\n",
       "    </tr>\n",
       "  </tbody>\n",
       "</table>\n",
       "</div>"
      ],
      "text/plain": [
       "   filmeId                              titulo  \\\n",
       "0        1                    Toy Story (1995)   \n",
       "1        2                      Jumanji (1995)   \n",
       "2        3             Grumpier Old Men (1995)   \n",
       "3        4            Waiting to Exhale (1995)   \n",
       "4        5  Father of the Bride Part II (1995)   \n",
       "\n",
       "                                       generos  nota_media  \n",
       "0  Adventure|Animation|Children|Comedy|Fantasy    3.920930  \n",
       "1                   Adventure|Children|Fantasy    3.431818  \n",
       "2                               Comedy|Romance    3.259615  \n",
       "3                         Comedy|Drama|Romance    2.357143  \n",
       "4                                       Comedy    3.071429  "
      ]
     },
     "execution_count": 4,
     "metadata": {},
     "output_type": "execute_result"
    }
   ],
   "source": [
    "# Renomeando a coluna \"nota\" para \"nota_media\"\n",
    "medias_filmes = medias_filmes.rename(columns={'nota': 'nota_media'})\n",
    "\n",
    "# Mostrando o DataFrame atualizado\n",
    "medias_filmes.head()"
   ]
  },
  {
   "cell_type": "markdown",
   "metadata": {
    "colab_type": "text",
    "id": "3xVLfAMllKtB"
   },
   "source": [
    "# Desafio 3\n",
    "Colocar o número de avaliações por filme, isto é, não só a média, mas também o TOTAL de votos por filme"
   ]
  },
  {
   "cell_type": "code",
   "execution_count": 5,
   "metadata": {
    "colab": {
     "base_uri": "https://localhost:8080/",
     "height": 416
    },
    "colab_type": "code",
    "id": "Ckt0xBuEDIHh",
    "outputId": "4c53e609-b4a0-4bd1-afdc-6c351954cf82"
   },
   "outputs": [
    {
     "data": {
      "text/html": [
       "<div>\n",
       "<style scoped>\n",
       "    .dataframe tbody tr th:only-of-type {\n",
       "        vertical-align: middle;\n",
       "    }\n",
       "\n",
       "    .dataframe tbody tr th {\n",
       "        vertical-align: top;\n",
       "    }\n",
       "\n",
       "    .dataframe thead th {\n",
       "        text-align: right;\n",
       "    }\n",
       "</style>\n",
       "<table border=\"1\" class=\"dataframe\">\n",
       "  <thead>\n",
       "    <tr style=\"text-align: right;\">\n",
       "      <th></th>\n",
       "      <th>filmeId</th>\n",
       "      <th>titulo</th>\n",
       "      <th>generos</th>\n",
       "      <th>nota_media</th>\n",
       "      <th>total_votos</th>\n",
       "    </tr>\n",
       "  </thead>\n",
       "  <tbody>\n",
       "    <tr>\n",
       "      <td>0</td>\n",
       "      <td>1</td>\n",
       "      <td>Toy Story (1995)</td>\n",
       "      <td>Adventure|Animation|Children|Comedy|Fantasy</td>\n",
       "      <td>3.920930</td>\n",
       "      <td>215.0</td>\n",
       "    </tr>\n",
       "    <tr>\n",
       "      <td>1</td>\n",
       "      <td>2</td>\n",
       "      <td>Jumanji (1995)</td>\n",
       "      <td>Adventure|Children|Fantasy</td>\n",
       "      <td>3.431818</td>\n",
       "      <td>110.0</td>\n",
       "    </tr>\n",
       "    <tr>\n",
       "      <td>2</td>\n",
       "      <td>3</td>\n",
       "      <td>Grumpier Old Men (1995)</td>\n",
       "      <td>Comedy|Romance</td>\n",
       "      <td>3.259615</td>\n",
       "      <td>52.0</td>\n",
       "    </tr>\n",
       "    <tr>\n",
       "      <td>3</td>\n",
       "      <td>4</td>\n",
       "      <td>Waiting to Exhale (1995)</td>\n",
       "      <td>Comedy|Drama|Romance</td>\n",
       "      <td>2.357143</td>\n",
       "      <td>7.0</td>\n",
       "    </tr>\n",
       "    <tr>\n",
       "      <td>4</td>\n",
       "      <td>5</td>\n",
       "      <td>Father of the Bride Part II (1995)</td>\n",
       "      <td>Comedy</td>\n",
       "      <td>3.071429</td>\n",
       "      <td>49.0</td>\n",
       "    </tr>\n",
       "  </tbody>\n",
       "</table>\n",
       "</div>"
      ],
      "text/plain": [
       "   filmeId                              titulo  \\\n",
       "0        1                    Toy Story (1995)   \n",
       "1        2                      Jumanji (1995)   \n",
       "2        3             Grumpier Old Men (1995)   \n",
       "3        4            Waiting to Exhale (1995)   \n",
       "4        5  Father of the Bride Part II (1995)   \n",
       "\n",
       "                                       generos  nota_media  total_votos  \n",
       "0  Adventure|Animation|Children|Comedy|Fantasy    3.920930        215.0  \n",
       "1                   Adventure|Children|Fantasy    3.431818        110.0  \n",
       "2                               Comedy|Romance    3.259615         52.0  \n",
       "3                         Comedy|Drama|Romance    2.357143          7.0  \n",
       "4                                       Comedy    3.071429         49.0  "
      ]
     },
     "execution_count": 5,
     "metadata": {},
     "output_type": "execute_result"
    }
   ],
   "source": [
    "# Calculando o total de votos por filme\n",
    "total_votos_por_filme = avaliacoes.groupby('filmeId')['nota'].count()\n",
    "\n",
    "# Juntando os DataFrames \"filmes_com_medias\" e \"total_votos_por_filme\"\n",
    "medias_filmes = medias_filmes.join(total_votos_por_filme, on='filmeId')\n",
    "\n",
    "# Renomeando a coluna \"nota\" para \"total_votos\"\n",
    "medias_filmes = medias_filmes.rename(columns={'nota': 'total_votos'})\n",
    "\n",
    "# Mostrando o DataFrame atualizado\n",
    "medias_filmes.head()"
   ]
  },
  {
   "cell_type": "markdown",
   "metadata": {
    "colab_type": "text",
    "id": "0WHSljPjlNss"
   },
   "source": [
    "# Desafio 4\n",
    "Arredonde as médias da coluna \"nota_media\" para duas casas decimais"
   ]
  },
  {
   "cell_type": "code",
   "execution_count": 6,
   "metadata": {
    "colab": {
     "base_uri": "https://localhost:8080/",
     "height": 416
    },
    "colab_type": "code",
    "id": "Kc8jnMC_i5MP",
    "outputId": "e0b61890-7dfc-4809-91d9-3d3dcdbad278",
    "scrolled": true
   },
   "outputs": [
    {
     "data": {
      "text/html": [
       "<div>\n",
       "<style scoped>\n",
       "    .dataframe tbody tr th:only-of-type {\n",
       "        vertical-align: middle;\n",
       "    }\n",
       "\n",
       "    .dataframe tbody tr th {\n",
       "        vertical-align: top;\n",
       "    }\n",
       "\n",
       "    .dataframe thead th {\n",
       "        text-align: right;\n",
       "    }\n",
       "</style>\n",
       "<table border=\"1\" class=\"dataframe\">\n",
       "  <thead>\n",
       "    <tr style=\"text-align: right;\">\n",
       "      <th></th>\n",
       "      <th>filmeId</th>\n",
       "      <th>titulo</th>\n",
       "      <th>generos</th>\n",
       "      <th>nota_media</th>\n",
       "      <th>total_votos</th>\n",
       "    </tr>\n",
       "  </thead>\n",
       "  <tbody>\n",
       "    <tr>\n",
       "      <td>0</td>\n",
       "      <td>1</td>\n",
       "      <td>Toy Story (1995)</td>\n",
       "      <td>Adventure|Animation|Children|Comedy|Fantasy</td>\n",
       "      <td>3.92</td>\n",
       "      <td>215.0</td>\n",
       "    </tr>\n",
       "    <tr>\n",
       "      <td>1</td>\n",
       "      <td>2</td>\n",
       "      <td>Jumanji (1995)</td>\n",
       "      <td>Adventure|Children|Fantasy</td>\n",
       "      <td>3.43</td>\n",
       "      <td>110.0</td>\n",
       "    </tr>\n",
       "    <tr>\n",
       "      <td>2</td>\n",
       "      <td>3</td>\n",
       "      <td>Grumpier Old Men (1995)</td>\n",
       "      <td>Comedy|Romance</td>\n",
       "      <td>3.26</td>\n",
       "      <td>52.0</td>\n",
       "    </tr>\n",
       "    <tr>\n",
       "      <td>3</td>\n",
       "      <td>4</td>\n",
       "      <td>Waiting to Exhale (1995)</td>\n",
       "      <td>Comedy|Drama|Romance</td>\n",
       "      <td>2.36</td>\n",
       "      <td>7.0</td>\n",
       "    </tr>\n",
       "    <tr>\n",
       "      <td>4</td>\n",
       "      <td>5</td>\n",
       "      <td>Father of the Bride Part II (1995)</td>\n",
       "      <td>Comedy</td>\n",
       "      <td>3.07</td>\n",
       "      <td>49.0</td>\n",
       "    </tr>\n",
       "  </tbody>\n",
       "</table>\n",
       "</div>"
      ],
      "text/plain": [
       "   filmeId                              titulo  \\\n",
       "0        1                    Toy Story (1995)   \n",
       "1        2                      Jumanji (1995)   \n",
       "2        3             Grumpier Old Men (1995)   \n",
       "3        4            Waiting to Exhale (1995)   \n",
       "4        5  Father of the Bride Part II (1995)   \n",
       "\n",
       "                                       generos  nota_media  total_votos  \n",
       "0  Adventure|Animation|Children|Comedy|Fantasy        3.92        215.0  \n",
       "1                   Adventure|Children|Fantasy        3.43        110.0  \n",
       "2                               Comedy|Romance        3.26         52.0  \n",
       "3                         Comedy|Drama|Romance        2.36          7.0  \n",
       "4                                       Comedy        3.07         49.0  "
      ]
     },
     "execution_count": 6,
     "metadata": {},
     "output_type": "execute_result"
    }
   ],
   "source": [
    "# Arredondando para duas casas decimais as médias da coluna \"nota_media\"\n",
    "medias_filmes['nota_media'] = medias_filmes['nota_media'].round(2)\n",
    "\n",
    "# Mostrando o DataFrame atualizado\n",
    "medias_filmes.head()"
   ]
  },
  {
   "cell_type": "markdown",
   "metadata": {},
   "source": [
    "# Desafio extra\n",
    "Qual filme teve a maior quantidade de votos?"
   ]
  },
  {
   "cell_type": "code",
   "execution_count": 7,
   "metadata": {},
   "outputs": [
    {
     "name": "stdout",
     "output_type": "stream",
     "text": [
      "O filme mais votado ==> Forrest Gump (1994)\n"
     ]
    }
   ],
   "source": [
    "# Criando uma \"boolean mask\"\n",
    "selecao = medias_filmes['total_votos'] == medias_filmes['total_votos'].max()\n",
    "\n",
    "# Encontrando o filme mais votado\n",
    "mais_votado = medias_filmes[selecao]['titulo'].values[0]\n",
    "\n",
    "# Mostrando o filme mais votado\n",
    "print(f'O filme mais votado ==> {mais_votado}')"
   ]
  },
  {
   "cell_type": "markdown",
   "metadata": {
    "colab_type": "text",
    "id": "88s6xoqplL-R"
   },
   "source": [
    "# Desafio 5 e 6\n",
    "Descobrir quias são os gêneros dos filmes e quantos são os filmes de cada gênero."
   ]
  },
  {
   "cell_type": "code",
   "execution_count": 8,
   "metadata": {
    "colab": {
     "base_uri": "https://localhost:8080/",
     "height": 381
    },
    "colab_type": "code",
    "id": "OkNCPIpOrhmO",
    "outputId": "ef669d3a-6bd4-4ad6-844a-7595f0bd710f"
   },
   "outputs": [
    {
     "data": {
      "text/plain": [
       "Drama                 4361\n",
       "Comedy                3756\n",
       "Thriller              1894\n",
       "Action                1828\n",
       "Romance               1596\n",
       "Adventure             1263\n",
       "Crime                 1199\n",
       "Sci-Fi                 980\n",
       "Horror                 978\n",
       "Fantasy                779\n",
       "Children               664\n",
       "Animation              611\n",
       "Mystery                573\n",
       "Documentary            440\n",
       "War                    382\n",
       "Musical                334\n",
       "Western                167\n",
       "IMAX                   158\n",
       "Film-Noir               87\n",
       "(no genres listed)      34\n",
       "dtype: int64"
      ]
     },
     "execution_count": 8,
     "metadata": {},
     "output_type": "execute_result"
    }
   ],
   "source": [
    "# Calculando o total de filmes por de gêneros\n",
    "generos = pd.Series(medias_filmes.generos.str.get_dummies().sum().sort_values(ascending=False))\n",
    "\n",
    "# Mostrando a quantidade de filmes por gênero\n",
    "generos"
   ]
  },
  {
   "cell_type": "markdown",
   "metadata": {
    "colab_type": "text",
    "id": "ZTh8HTG5lLKb"
   },
   "source": [
    "# Desafio 7\n",
    "Plotar o gráfico de aparições por gênero. Pode ser um gráfico de tipo = barra"
   ]
  },
  {
   "cell_type": "code",
   "execution_count": 10,
   "metadata": {
    "colab": {
     "base_uri": "https://localhost:8080/",
     "height": 606
    },
    "colab_type": "code",
    "id": "7G1eLDlUwGkF",
    "outputId": "55b70efe-8ecb-4d4b-ece9-189512e0f86b"
   },
   "outputs": [
    {
     "data": {
      "image/png": "[encoded data removed]",
      "text/plain": [
       "<Figure size 1080x576 with 1 Axes>"
      ]
     },
     "metadata": {},
     "output_type": "display_data"
    }
   ],
   "source": [
    "# Importando as bibliotecas necessárias\n",
    "import matplotlib.pyplot as plt\n",
    "import seaborn as sns\n",
    "\n",
    "# Setando estilos\n",
    "sns.set_style('whitegrid')\n",
    "cmap = sns.diverging_palette(150, 275, l=55, s=80, n=9, center='dark', as_cmap=True)\n",
    "\n",
    "# Tamanho da figura\n",
    "plt.figure(figsize=(15, 8))\n",
    "\n",
    "# Escolhendo o tipo de gráfico\n",
    "generos.plot(kind='bar', colormap=cmap)\n",
    "\n",
    "# Definindo o título\n",
    "plt.title('Ocorrência de gêneros', fontsize=20)\n",
    "\n",
    "# Definindo o eixo horizontal\n",
    "plt.xlabel(\"Gêneros\", fontsize=16)\n",
    "\n",
    "# Definindo o eixo vertical\n",
    "plt.ylabel(\"Ocorrência\", fontsize=16)\n",
    "\n",
    "# Rotacionando os gêneros em 45°\n",
    "plt.xticks(rotation=45)\n",
    "\n",
    "# Plotando a figura\n",
    "plt.show()"
   ]
  },
  {
   "cell_type": "markdown",
   "metadata": {},
   "source": [
    "### Ou usando o bilioteca seaborn"
   ]
  },
  {
   "cell_type": "code",
   "execution_count": 11,
   "metadata": {},
   "outputs": [
    {
     "data": {
      "image/png": "[encoded data removed]",
      "text/plain": [
       "<Figure size 1080x576 with 1 Axes>"
      ]
     },
     "metadata": {},
     "output_type": "display_data"
    }
   ],
   "source": [
    "# Setando o estilo\n",
    "sns.set_style('whitegrid')\n",
    "\n",
    "# Tamanho da segunda figura\n",
    "plt.figure(figsize=(15, 8))\n",
    "\n",
    "# Plotando o gráfico de barra com a seaborn\n",
    "sns.barplot(x=generos.index, y=generos.values, \n",
    "            palette=sns.color_palette('BuGn_r', n_colors=len(generos)+10))\n",
    "\n",
    "# Definindo o título\n",
    "plt.title('Ocorrência de gêneros', fontsize=20)\n",
    "\n",
    "# Definindo o eixo horizontal\n",
    "plt.xlabel(\"Gêneros\", fontsize=16)\n",
    "\n",
    "# Definindo o eixo vertical\n",
    "plt.ylabel(\"Ocorrência\", fontsize=16)\n",
    "\n",
    "# Rotacionando os gêneros em 45°\n",
    "plt.xticks(rotation=45)\n",
    "\n",
    "plt.show()"
   ]
  }
 ],
 "metadata": {
  "colab": {
   "authorship_tag": "ABX9TyPAp88ElqsmJMgYXxSG09/D",
   "name": "class01.ipynb",
   "provenance": []
  },
  "kernelspec": {
   "display_name": "Python 3",
   "language": "python",
   "name": "python3"
  },
  "language_info": {
   "codemirror_mode": {
    "name": "ipython",
    "version": 3
   },
   "file_extension": ".py",
   "mimetype": "text/x-python",
   "name": "python",
   "nbconvert_exporter": "python",
   "pygments_lexer": "ipython3",
   "version": "3.7.4"
  }
 },
 "nbformat": 4,
 "nbformat_minor": 1
}
